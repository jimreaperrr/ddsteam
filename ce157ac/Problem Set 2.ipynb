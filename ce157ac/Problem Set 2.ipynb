{
 "cells": [
  {
   "cell_type": "markdown",
   "metadata": {},
   "source": [
    "_____\n",
    "## Assignment: Problem Set #2 \n",
    "\n",
    "\n",
    "_____\n",
    "\n",
    "**Assignment Description**\n",
    "\n",
    "Read this recent news article:\n",
    "\n",
    "https://www.theguardian.com/education/2018/feb/01/schools-across-the-us-exposed-to-air-pollution-hildren-are-facing-risks\n",
    "\n",
    "\n",
    "If you're so inclinded, check out the study they are referencing:\n",
    "\n",
    "https://www.sciencedirect.com/science/article/pii/S0013935117317188\n",
    "\n",
    "\n",
    "\n",
    "In this problem set, we’re going to do some relatively rudimentary analyses of similar issues here\n",
    "in the Bay Area. In the process, you will explore the lasting effects of urban infrastructure\n",
    "(specifically, housing and highways) on the way exposures vary across space and communities.\n",
    "To do this you’ll use a variety of easily-accessible tools provided by various government\n",
    "agencies. One of the purposes here is to familiarize you with these sources of data so that you\n",
    "might take advantage of them in your future work.\n"
   ]
  },
  {
   "cell_type": "markdown",
   "metadata": {},
   "source": [
    "____\n",
    "### 1) Exploring the East Bay's census map\n",
    "\n",
    "Go to the US Census Explorer: http://census.socialexplorer.com/pop-flash/\n",
    "\n",
    "**Zoom _in on_ the east bay area**\n",
    "\n",
    "- Bound your search between Martinez, Richmond, Hayward, and   Pleasanton. You’ll want to zoom in further within this boundary, but keep your zoomed-in map within this area.\n",
    "\n",
    "\n",
    "    \n",
    "- Make sure you are viewing by _**Census Tract**_\n",
    "\n",
    "_____\n",
    "\n",
    "**Under \"Select a Measure\" - explore!**\n",
    "- Select one measure that you find interesting, take a screen shot of that map (https://www.take-a-screenshot.org/ for a how to), and copy the map into your assignment.\n",
    "\n",
    "        Note: do not choose \"Median Household Income\" for this part \n",
    "\n",
    "\n",
    "        "
   ]
  },
  {
   "cell_type": "markdown",
   "metadata": {},
   "source": []
  },
  {
   "cell_type": "markdown",
   "metadata": {},
   "source": [
    "_____\n",
    "**Write 2-3 Sentences below** \n",
    "- What is interesting to you about this map and why? \n",
    "- How do you interpret it?**\n",
    "\n"
   ]
  },
  {
   "cell_type": "markdown",
   "metadata": {},
   "source": [
    "** Response #1**\n",
    "\n",
    "_____"
   ]
  },
  {
   "cell_type": "raw",
   "metadata": {},
   "source": [
    "PLease erase everything and write your sentences here. "
   ]
  },
  {
   "cell_type": "markdown",
   "metadata": {},
   "source": [
    "**Under \"Select\" a Measure\" --select \"Median Househould Income\" for the next question\"**\n",
    "\n",
    "\n",
    "____\n",
    "### 2) Exploring age of housing as a potential source of lead exposure "
   ]
  },
  {
   "cell_type": "code",
   "execution_count": null,
   "metadata": {},
   "outputs": [],
   "source": []
  }
 ],
 "metadata": {
  "kernelspec": {
   "display_name": "Python 3",
   "language": "python",
   "name": "python3"
  },
  "language_info": {
   "codemirror_mode": {
    "name": "ipython",
    "version": 3
   },
   "file_extension": ".py",
   "mimetype": "text/x-python",
   "name": "python",
   "nbconvert_exporter": "python",
   "pygments_lexer": "ipython3",
   "version": "3.6.3"
  }
 },
 "nbformat": 4,
 "nbformat_minor": 2
}
